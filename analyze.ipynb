{
 "cells": [
  {
   "cell_type": "markdown",
   "id": "3142ac19",
   "metadata": {},
   "source": [
    "PROTEIN PROPERTY ANALYZER WITH VISUALIZATION "
   ]
  },
  {
   "cell_type": "code",
   "execution_count": 1,
   "id": "1f41386a",
   "metadata": {},
   "outputs": [],
   "source": [
    "from Bio import SeqIO\n",
    "from Bio.SeqUtils.ProtParam import ProteinAnalysis\n",
    "from Bio.SeqUtils import MeltingTemp as mt\n"
   ]
  },
  {
   "cell_type": "code",
   "execution_count": 2,
   "id": "035aab3a",
   "metadata": {},
   "outputs": [],
   "source": [
    "# Load protein sequence from FASTA\n",
    "record = SeqIO.read(\"hemo.fasta\", \"fasta\")\n",
    "sequence = str(record.seq)\n",
    "\n",
    "# Analyze the sequence\n",
    "analyzed_seq = ProteinAnalysis(sequence)"
   ]
  },
  {
   "cell_type": "code",
   "execution_count": 3,
   "id": "06352e4f",
   "metadata": {},
   "outputs": [
    {
     "name": "stdout",
     "output_type": "stream",
     "text": [
      "Protein Sequence: MVLSPADKTNVKAAWGKVGAHAGEYGAEAL... [142 aa]\n",
      "\n",
      "Protein Properties:\n",
      "- Molecular Weight: 15257.36 Da\n",
      "- Isoelectric Point (pI): 8.72\n",
      "- Aromaticity: 0.0775\n",
      "- Instability Index: 6.97\n",
      "- GRAVY: 0.05\n",
      "\n",
      "Amino Acid Composition:\n",
      "  A: 14.79%\n",
      "  C: 0.70%\n",
      "  D: 5.63%\n",
      "  E: 2.82%\n",
      "  F: 4.93%\n",
      "  G: 4.93%\n",
      "  H: 7.04%\n",
      "  I: 0.00%\n",
      "  K: 7.75%\n",
      "  L: 12.68%\n",
      "  M: 2.11%\n",
      "  N: 2.82%\n",
      "  P: 4.93%\n",
      "  Q: 0.70%\n",
      "  R: 2.11%\n",
      "  S: 7.75%\n",
      "  T: 6.34%\n",
      "  V: 9.15%\n",
      "  W: 0.70%\n",
      "  Y: 2.11%\n"
     ]
    },
    {
     "name": "stderr",
     "output_type": "stream",
     "text": [
      "c:\\Users\\gurur\\OneDrive\\Documents\\PROJECTS\\armada-env\\Lib\\site-packages\\Bio\\SeqUtils\\ProtParam.py:106: BiopythonDeprecationWarning: The get_amino_acids_percent method has been deprecated and will likely be removed from Biopython in the near future. Please use the amino_acids_percent attribute instead.\n",
      "  warnings.warn(\n"
     ]
    }
   ],
   "source": [
    "# Output results\n",
    "print(f\"Protein Sequence: {sequence[:30]}... [{len(sequence)} aa]\\n\")\n",
    "\n",
    "print(\"Protein Properties:\")\n",
    "print(f\"- Molecular Weight: {analyzed_seq.molecular_weight():.2f} Da\")\n",
    "print(f\"- Isoelectric Point (pI): {analyzed_seq.isoelectric_point():.2f}\")\n",
    "print(f\"- Aromaticity: {analyzed_seq.aromaticity():.4f}\")\n",
    "print(f\"- Instability Index: {analyzed_seq.instability_index():.2f}\")\n",
    "print(f\"- GRAVY: {analyzed_seq.gravy():.2f}\")\n",
    "\n",
    "print(\"\\nAmino Acid Composition:\")\n",
    "for aa, perc in analyzed_seq.get_amino_acids_percent().items():\n",
    "    print(f\"  {aa}: {perc:.2%}\")\n",
    "\n",
    "with open(\"hemo_analysis.txt\", \"w\") as f:\n",
    "    f.write(f\"Protein Sequence: {sequence[:30]}... [{len(sequence)} aa]\\n\\n\")\n",
    "    f.write(\"Protein Properties:\\n\")\n",
    "    f.write(f\"- Molecular Weight: {analyzed_seq.molecular_weight():.2f} Da\\n\")\n",
    "    f.write(f\"- Isoelectric Point (pI): {analyzed_seq.isoelectric_point():.2f}\\n\")\n",
    "    f.write(f\"- Aromaticity: {analyzed_seq.aromaticity():.4f}\\n\")\n",
    "    f.write(f\"- Instability Index: {analyzed_seq.instability_index():.2f}\\n\")\n",
    "    f.write(f\"- GRAVY: {analyzed_seq.gravy():.2f}\\n\\n\")\n",
    "    f.write(\"Amino Acid Composition:\\n\")\n",
    "    for aa, perc in analyzed_seq.get_amino_acids_percent().items():\n",
    "        f.write(f\"  {aa}: {perc:.2%}\\n\")\n",
    "# Save the analysis results to a text file\n",
    "# The analysis results are saved to \"hemo_analysis.txt\"\n",
    "# The script reads a protein sequence from a FASTA file, analyzes it, and outputs the results to the console and a text file.\n",
    "# The script uses Biopython's SeqIO and ProteinAnalysis modules to perform the analysis.\n"
   ]
  },
  {
   "cell_type": "code",
   "execution_count": 5,
   "id": "1ba83279",
   "metadata": {},
   "outputs": [],
   "source": [
    "import matplotlib.pyplot as plt\n"
   ]
  },
  {
   "cell_type": "code",
   "execution_count": 10,
   "id": "ecc8a6d7",
   "metadata": {},
   "outputs": [
    {
     "name": "stderr",
     "output_type": "stream",
     "text": [
      "c:\\Users\\gurur\\OneDrive\\Documents\\PROJECTS\\armada-env\\Lib\\site-packages\\Bio\\SeqUtils\\ProtParam.py:106: BiopythonDeprecationWarning: The get_amino_acids_percent method has been deprecated and will likely be removed from Biopython in the near future. Please use the amino_acids_percent attribute instead.\n",
      "  warnings.warn(\n"
     ]
    },
    {
     "data": {
      "image/png": "[encoded data removed]",
      "text/plain": [
       "<Figure size 1000x600 with 1 Axes>"
      ]
     },
     "metadata": {},
     "output_type": "display_data"
    }
   ],
   "source": [
    "from matplotlib.pyplot import ylabel\n",
    "\n",
    "\n",
    "aa_composition =  analyzed_seq.get_amino_acids_percent()\n",
    "# amino acide percentages\n",
    "aa_composition_percent = {k:v * 100 for k, v in aa_composition.items()}\n",
    "\n",
    "#plot\n",
    "plt.figure(figsize=(10, 6))\n",
    "plt.bar(aa_composition_percent.keys(), aa_composition_percent.values(), color='coral')\n",
    "plt.xlabel('Amino Acids')\n",
    "plt.ylabel('Percentage (%)')\n",
    "plt.title('Amino Acid Composition')\n",
    "plt.grid(axis='y', linestyle='--', alpha=0.7)\n",
    "plt.tight_layout()\n",
    "plt.savefig(\"amino_acid_composition.png\")\n",
    "plt.show()"
   ]
  },
  {
   "cell_type": "markdown",
   "id": "a6008ef0",
   "metadata": {},
   "source": [
    "BATCH ANALYSIS:\n",
    "The batch analysis is a type of analysis that is performed on a single batch of data. It is used to analyze the data in a batch and to identify any patterns or trends that may be present."
   ]
  },
  {
   "cell_type": "code",
   "execution_count": 13,
   "id": "2d06d833",
   "metadata": {},
   "outputs": [
    {
     "name": "stdout",
     "output_type": "stream",
     "text": [
      "Calculating melting temperature for sp|P69905|HBA_HUMAN...\n",
      "Analyzing: sp|P69905|HBA_HUMAN\n",
      "MW: 15257.359099999983\n",
      "pI: 8.716915321350097\n",
      "---\n"
     ]
    }
   ],
   "source": [
    "from Bio import SeqIO\n",
    "\n",
    "\n",
    "for record in SeqIO.parse(\"hemo.fasta\", \"fasta\"):\n",
    "    print(f\"Calculating melting temperature for {record.id}...\")\n",
    "    print(f\"Analyzing: {record.id}\")\n",
    "    \n",
    "    # Create ProteinAnalysis object for each sequence\n",
    "    sequence = str(record.seq)\n",
    "    analysed_seq = ProteinAnalysis(sequence)\n",
    "    \n",
    "    print(\"MW:\", analysed_seq.molecular_weight())\n",
    "    print(\"pI:\", analysed_seq.isoelectric_point())\n",
    "    print(\"---\")"
   ]
  },
  {
   "cell_type": "markdown",
   "id": "0c03bb0e",
   "metadata": {},
   "source": [
    "Sequence Comparison - Simple Pairwise Allignment"
   ]
  },
  {
   "cell_type": "code",
   "execution_count": 15,
   "id": "d338ede3",
   "metadata": {},
   "outputs": [
    {
     "name": "stdout",
     "output_type": "stream",
     "text": [
      "MV-LSPADKTNV---K-A--A-WGKVGAHAG---EY-GA-EALE-RMFLSF----PTTK-TY--FPHF----\n",
      "|| |     |     | |  | ||||        |  |  |||  |  |      |    |   |  |    \n",
      "MVHL-----T--PEEKSAVTALWGKV-----NVDE-VG-GEAL-GR--L--LVVYP---WT-QRF--FESFG\n",
      "  Score=22\n",
      "\n"
     ]
    }
   ],
   "source": [
    "from Bio import pairwise2\n",
    "from Bio.pairwise2 import format_alignment\n",
    "seq1 = \"MVLSPADKTNVKAAWGKVGAHAGEYGAEALERMFLSFPTTKTYFPHF\"\n",
    "seq2 = \"MVHLTPEEKSAVTALWGKVNVDEVGGEALGRLLVVYPWTQRFFESFG\"\n",
    "\n",
    "alignments = pairwise2.align.globalxx(seq1, seq2) \n",
    "\n",
    "#show top alignment\n",
    "for alignment in alignments[:1]:\n",
    "    print(format_alignment(*alignment, full_sequences=True))"
   ]
  },
  {
   "cell_type": "markdown",
   "id": "5bc7543c",
   "metadata": {},
   "source": [
    "Web Tool Integration- UniProt or NCBI Fetching\n"
   ]
  },
  {
   "cell_type": "code",
   "execution_count": 16,
   "id": "91438e93",
   "metadata": {},
   "outputs": [
    {
     "name": "stdout",
     "output_type": "stream",
     "text": [
      "Creating directory C:\\Users\\gurur\\AppData\\Local\\bioservices\\bioservices \n"
     ]
    }
   ],
   "source": [
    "from bioservices import UniProt\n",
    "from Bio.SeqUtils.ProtParam import ProteinAnalysis\n"
   ]
  },
  {
   "cell_type": "code",
   "execution_count": 19,
   "id": "5725f6fc",
   "metadata": {},
   "outputs": [
    {
     "name": "stdout",
     "output_type": "stream",
     "text": [
      "\n",
      "Fetched FASTA:\n",
      ">sp|P69905|HBA_HUMAN Hemoglobin subunit alpha OS=Homo sapiens OX=9606 GN=HBA1 PE=1 SV=2\n",
      "MVLSPADKTNVKAAWGKVGAHAGEYGAEALERMFLSFPTTKTYFPHFDLSHGSAQVKGHG\n",
      "KKVADALTNAVAHVDDMPNALSALSDLHAHKLRVDPVNFKLLSHCLLVTLA...\n",
      "\n",
      "Extracted sequence (first 100 aa): MVLSPADKTNVKAAWGKVGAHAGEYGAEALERMFLSFPTTKTYFPHFDLSHGSAQVKGHGKKVADALTNAVAHVDDMPNALSALSDLHAHKLRVDPVNFK...\n"
     ]
    }
   ],
   "source": [
    "from bioservices import UniProt\n",
    "\n",
    "# Your UniProt ID here\n",
    "uniprot_id = \"P69905\"  # Example: Hemoglobin subunit alpha (HBA_HUMAN)\n",
    "\n",
    "u = UniProt()\n",
    "\n",
    "# Fetch FASTA format sequence from UniProt\n",
    "fasta = u.retrieve(uniprot_id, frmt=\"fasta\")\n",
    "\n",
    "# Check if response is valid FASTA\n",
    "if isinstance(fasta, str) and fasta.startswith(\">\"):\n",
    "    print(f\"\\nFetched FASTA:\\n{fasta[:200]}...\\n\")\n",
    "\n",
    "    # Extract sequence from FASTA\n",
    "    lines = fasta.strip().split(\"\\n\")\n",
    "    sequence = \"\".join(lines[1:])  # Skip header\n",
    "    print(f\"Extracted sequence (first 100 aa): {sequence[:100]}...\")\n",
    "\n",
    "else:\n",
    "    print(f\"⚠️ Failed to fetch FASTA for UniProt ID {uniprot_id}. Response: {fasta}\")\n"
   ]
  },
  {
   "cell_type": "code",
   "execution_count": 21,
   "id": "f15315a7",
   "metadata": {},
   "outputs": [
    {
     "name": "stdout",
     "output_type": "stream",
     "text": [
      "Entry Name: HBA_HUMAN\n",
      "Organism: Homo sapiens (Human).\n",
      "Protein Name: RecName: Full=Hemoglobin subunit alpha; AltName: Full=Alpha-globin; AltName: Full=Hemoglobin alpha chain; Contains: RecName: Full=Hemopressin {ECO:0000303|PubMed:18077343};\n",
      "\n",
      "Extracted sequence (first 100 aa):\n",
      "MVLSPADKTNVKAAWGKVGAHAGEYGAEALERMFLSFPTTKTYFPHFDLSHGSAQVKGHGKKVADALTNAVAHVDDMPNALSALSDLHAHKLRVDPVNFK\n"
     ]
    }
   ],
   "source": [
    "from Bio import ExPASy, SwissProt\n",
    "\n",
    "# Connect to ExPASy and fetch the SwissProt record\n",
    "accession_id = \"P69905\"\n",
    "handle = ExPASy.get_sprot_raw(accession_id)\n",
    "record = SwissProt.read(handle)\n",
    "\n",
    "# Print metadata (optional)\n",
    "print(f\"Entry Name: {record.entry_name}\")\n",
    "print(f\"Organism: {record.organism}\")\n",
    "print(f\"Protein Name: {record.description}\")\n",
    "\n",
    "# Extract the first 100 amino acids of the sequence\n",
    "sequence = record.sequence\n",
    "first_100 = sequence[:100]\n",
    "\n",
    "print(\"\\nExtracted sequence (first 100 aa):\")\n",
    "print(first_100)\n"
   ]
  }
 ],
 "metadata": {
  "kernelspec": {
   "display_name": "armada-env",
   "language": "python",
   "name": "python3"
  },
  "language_info": {
   "codemirror_mode": {
    "name": "ipython",
    "version": 3
   },
   "file_extension": ".py",
   "mimetype": "text/x-python",
   "name": "python",
   "nbconvert_exporter": "python",
   "pygments_lexer": "ipython3",
   "version": "3.11.0"
  }
 },
 "nbformat": 4,
 "nbformat_minor": 5
}
